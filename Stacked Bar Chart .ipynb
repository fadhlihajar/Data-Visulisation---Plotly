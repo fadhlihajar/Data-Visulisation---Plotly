{
 "cells": [
  {
   "cell_type": "code",
   "execution_count": 2,
   "metadata": {},
   "outputs": [
    {
     "data": {
      "text/html": [
       "<script type=\"text/javascript\">window.PlotlyConfig = {MathJaxConfig: 'local'};</script><script type=\"text/javascript\">if (window.MathJax) {MathJax.Hub.Config({SVG: {font: \"STIX-Web\"}});}</script><script>requirejs.config({paths: { 'plotly': ['https://cdn.plot.ly/plotly-latest.min']},});if(!window._Plotly) {require(['plotly'],function(plotly) {window._Plotly=plotly;});}</script>"
      ],
      "text/vnd.plotly.v1+html": [
       "<script type=\"text/javascript\">window.PlotlyConfig = {MathJaxConfig: 'local'};</script><script type=\"text/javascript\">if (window.MathJax) {MathJax.Hub.Config({SVG: {font: \"STIX-Web\"}});}</script><script>requirejs.config({paths: { 'plotly': ['https://cdn.plot.ly/plotly-latest.min']},});if(!window._Plotly) {require(['plotly'],function(plotly) {window._Plotly=plotly;});}</script>"
      ]
     },
     "metadata": {},
     "output_type": "display_data"
    }
   ],
   "source": [
    "import plotly\n",
    "import plotly.graph_objs as go\n",
    "import plotly.offline as pyo\n",
    "plotly.offline.init_notebook_mode(connected=True)\n",
    "import pandas as pd\n",
    "import numpy as np\n",
    "import pandas as pd\n",
    "import seaborn as sns \n",
    "import matplotlib.pyplot as plt\n",
    "import numpy as np \n",
    "import pylab as pl\n",
    "import plotly.plotly as py"
   ]
  },
  {
   "cell_type": "code",
   "execution_count": 3,
   "metadata": {},
   "outputs": [],
   "source": [
    "from __future__ import absolute_import\n",
    "from plotly.validators.layout import TemplateValidator\n",
    "from plotly.graph_objs.layout import Template"
   ]
  },
  {
   "cell_type": "code",
   "execution_count": 4,
   "metadata": {},
   "outputs": [],
   "source": [
    "import plotly.plotly as py\n",
    "from plotly.graph_objs import *\n",
    "py.sign_in('fadhlihajar', 'F2KlKKZBp0D7QT8m4WRp')"
   ]
  },
  {
   "cell_type": "code",
   "execution_count": 5,
   "metadata": {},
   "outputs": [],
   "source": [
    "from plotly.validators.layout import mapbox"
   ]
  },
  {
   "cell_type": "code",
   "execution_count": 6,
   "metadata": {},
   "outputs": [
    {
     "data": {
      "text/plain": [
       "'3.7.1'"
      ]
     },
     "execution_count": 6,
     "metadata": {},
     "output_type": "execute_result"
    }
   ],
   "source": [
    "import plotly\n",
    "plotly.__version__"
   ]
  },
  {
   "cell_type": "code",
   "execution_count": 7,
   "metadata": {},
   "outputs": [
    {
     "name": "stderr",
     "output_type": "stream",
     "text": [
      "C:\\ProgramData\\Anaconda3\\lib\\site-packages\\IPython\\core\\display.py:689: UserWarning:\n",
      "\n",
      "Consider using IPython.display.IFrame instead\n",
      "\n"
     ]
    },
    {
     "data": {
      "text/html": [
       "<iframe id=\"igraph\" scrolling=\"no\" style=\"border:none;\" seamless=\"seamless\" src=\"https://plot.ly/~fadhlihajar/345.embed\" height=\"525px\" width=\"100%\"></iframe>"
      ],
      "text/plain": [
       "<plotly.tools.PlotlyDisplay object>"
      ]
     },
     "execution_count": 7,
     "metadata": {},
     "output_type": "execute_result"
    }
   ],
   "source": [
    "\n",
    "trace1 = go.Bar(\n",
    "    y=['Switzerland','Iceland','Denmark','Norway','Canada','Finland','Netherlands','Sweden','New Zealand','Australia'],\n",
    "    x= [1.39651,1.30232,1.32548,1.459,1.32629,1.29025,1.32944,1.33171,1.25018,1.33358],\n",
    "    name='Explained by: Economy',\n",
    "    orientation = 'h',\n",
    "    marker = dict(\n",
    "        color = 'rgb(132, 162, 205)',\n",
    "        line = dict(\n",
    "            color = 'rgb(132, 162, 205)',\n",
    "            width = 3)\n",
    "    )\n",
    ")\n",
    "trace2 = go.Bar(\n",
    "    y=['Switzerland','Iceland','Denmark','Norway','Canada','Finland','Netherlands','Sweden','New Zealand','Australia'],\n",
    "    x=[1.34951,1.40223,1.36058,1.33095,1.32261,1.31826,1.28017,1.28907,1.31967,1.30923],\n",
    "    name='Explained by: social(Family) support',\n",
    "    orientation = 'h',\n",
    "    marker = dict(\n",
    "        color = 'rgb(218, 223, 255)',\n",
    "        line = dict(\n",
    "            color = 'rgb(218, 223, 255)',\n",
    "            width = 3)\n",
    "    )\n",
    ")\n",
    "\n",
    "\n",
    "trace3 = go.Bar(\n",
    "    y=['Switzerland','Iceland','Denmark','Norway','Canada','Finland','Netherlands','Sweden','New Zealand','Australia'],\n",
    "    x=[0.94143,0.94784,0.87464,0.88521,0.90563,0.88911,0.89284,0.91087,0.90837,0.93156],\n",
    "    name='Explained by: Health Life Expectancy',\n",
    "    orientation = 'h',\n",
    "    marker = dict(\n",
    "        color = 'rgb(250, 123, 166)',\n",
    "        line = dict(\n",
    "            color = 'rgb(250, 123, 166)',\n",
    "            width = 3)\n",
    "    )\n",
    ")\n",
    "\n",
    "\n",
    "\n",
    "trace4 = go.Bar(\n",
    "    y=['Switzerland','Iceland','Denmark','Norway','Canada','Finland','Netherlands','Sweden','New Zealand','Australia'],\n",
    "    x=[0.66557,0.62877,0.64938,0.66973,0.63297,0.64169,0.61576,0.6598,0.63938,0.65124],\n",
    "    name='Explained by: Freedom to make life choices',\n",
    "    orientation = 'h',\n",
    "    marker = dict(\n",
    "        color = 'rgb(250, 173, 199)',\n",
    "        line = dict(\n",
    "            color = 'rgb(250, 173, 199)',\n",
    "            width = 3)\n",
    "    )\n",
    ")\n",
    "\n",
    "trace5 = go.Bar(\n",
    "    y=['Switzerland','Iceland','Denmark','Norway','Canada','Finland','Netherlands','Sweden','New Zealand','Australia'],\n",
    "    x=[0.41978,0.14145,0.48357,0.36503,0.32957,0.41372,0.31814,0.43844,0.42922,0.35637],\n",
    "    name='Explained by: Trust Government Corruption',\n",
    "    orientation = 'h',\n",
    "    marker = dict(\n",
    "        color = 'rgb(155, 242, 154)',\n",
    "        line = dict(\n",
    "            color = 'rgb(155, 242, 154)',\n",
    "            width = 3)\n",
    "    )\n",
    ")\n",
    "\n",
    "\n",
    "trace6 = go.Bar(\n",
    "    y=['Switzerland','Iceland','Denmark','Norway','Canada','Finland','Netherlands','Sweden','New Zealand','Australia'],\n",
    "    x=[0.29678,0.4363,0.34139,0.34699,0.45811,0.23351,0.4761,0.36262,0.47501,0.43562],\n",
    "    name='Explained by: Generosity',\n",
    "    orientation = 'h',\n",
    "    marker = dict(\n",
    "        color = 'rgb(222, 244, 121)',\n",
    "        line = dict(\n",
    "            color = 'rgb(222, 244, 121)',\n",
    "            width = 3)\n",
    "    )\n",
    ")\n",
    "\n",
    "\n",
    "\n",
    "\n",
    "data = [trace1, trace2, trace3, trace4, trace5, trace6]\n",
    "layout = go.Layout(\n",
    "     title='The Top 10 Happiest Countries in the World in 2015',\n",
    "    barmode='stack'\n",
    ")\n",
    "fig = go.Figure(data=data, layout=layout)\n",
    "py.iplot(fig, filename='marker-h-bar')"
   ]
  },
  {
   "cell_type": "code",
   "execution_count": null,
   "metadata": {},
   "outputs": [],
   "source": []
  }
 ],
 "metadata": {
  "kernelspec": {
   "display_name": "Python 3",
   "language": "python",
   "name": "python3"
  },
  "language_info": {
   "codemirror_mode": {
    "name": "ipython",
    "version": 3
   },
   "file_extension": ".py",
   "mimetype": "text/x-python",
   "name": "python",
   "nbconvert_exporter": "python",
   "pygments_lexer": "ipython3",
   "version": "3.7.1"
  }
 },
 "nbformat": 4,
 "nbformat_minor": 2
}
